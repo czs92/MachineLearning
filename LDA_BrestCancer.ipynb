{
 "cells": [
  {
   "cell_type": "code",
   "execution_count": 1,
   "metadata": {
    "collapsed": true
   },
   "outputs": [],
   "source": [
    "from sklearn.datasets import load_breast_cancer\n",
    "import matplotlib.pyplot as plt\n",
    "from sklearn import neighbors\n",
    "from sklearn import model_selection\n",
    "import numpy as np\n"
   ]
  },
  {
   "cell_type": "markdown",
   "metadata": {},
   "source": [
    "### Data"
   ]
  },
  {
   "cell_type": "code",
   "execution_count": 2,
   "metadata": {
    "collapsed": true
   },
   "outputs": [],
   "source": [
    "data = load_breast_cancer()\n",
    "X=data.data\n",
    "y=data.target\n",
    "\n",
    "x_train, x_test, y_train, y_test =model_selection.train_test_split(X,y,test_size=0.3,random_state=42)"
   ]
  },
  {
   "cell_type": "markdown",
   "metadata": {},
   "source": [
    "### Solution applying KNN directly"
   ]
  },
  {
   "cell_type": "code",
   "execution_count": 3,
   "metadata": {},
   "outputs": [
    {
     "data": {
      "text/plain": [
       "0.93567251461988299"
      ]
     },
     "execution_count": 3,
     "metadata": {},
     "output_type": "execute_result"
    }
   ],
   "source": [
    "clf  = neighbors.KNeighborsClassifier(n_neighbors=1)\n",
    "clf  = clf.fit(x_train,y_train)\n",
    "\n",
    "clf.score(x_test,y_test)"
   ]
  },
  {
   "cell_type": "markdown",
   "metadata": {},
   "source": [
    "### Solution applying KNN with the PCA"
   ]
  },
  {
   "cell_type": "code",
   "execution_count": 4,
   "metadata": {},
   "outputs": [
    {
     "data": {
      "text/plain": [
       "(398, 30)"
      ]
     },
     "execution_count": 4,
     "metadata": {},
     "output_type": "execute_result"
    }
   ],
   "source": [
    "x_train.shape"
   ]
  },
  {
   "cell_type": "code",
   "execution_count": 62,
   "metadata": {
    "collapsed": true
   },
   "outputs": [],
   "source": [
    "# your code here\n",
    "mu = np.mean(x_train, axis=0)\n",
    "\n",
    "vaps, veps = np.linalg.eig(np.cov(x_train_mu.T))\n",
    "idx = np.argsort(vaps)[::-1]\n",
    "\n",
    "# Store eigenvectors in veps and eigenvalues in vaps. The projection matrix is P"
   ]
  },
  {
   "cell_type": "code",
   "execution_count": 61,
   "metadata": {},
   "outputs": [
    {
     "data": {
      "image/png": "[encoded data removed]",
      "text/plain": [
       "<matplotlib.figure.Figure at 0x7f03d99bf320>"
      ]
     },
     "metadata": {},
     "output_type": "display_data"
    }
   ],
   "source": [
    "s = []\n",
    "for i in range(1,veps.shape[1]):\n",
    "    P = veps[:, idx[:i]]\n",
    "    x_hat_train = np.dot(x_train,P)\n",
    "    x_hat_test = np.dot(x_test,P)\n",
    "\n",
    "    clf  = neighbors.KNeighborsClassifier(n_neighbors=1)\n",
    "    clf  = clf.fit(x_hat_train,y_train)\n",
    "\n",
    "    s.append(clf.score(x_hat_test,y_test))\n",
    "    \n",
    "plt.plot(s)\n",
    "plt.show()"
   ]
  },
  {
   "cell_type": "markdown",
   "metadata": {},
   "source": [
    "Taking the five principal components we arrive to the optimal solution which is in fact the same obtained applying the KNN without using the PCA"
   ]
  },
  {
   "cell_type": "code",
   "execution_count": 66,
   "metadata": {},
   "outputs": [
    {
     "name": "stdout",
     "output_type": "stream",
     "text": [
      "0.935672514619883\n"
     ]
    },
    {
     "data": {
      "text/plain": [
       "0.93567251461988299"
      ]
     },
     "execution_count": 66,
     "metadata": {},
     "output_type": "execute_result"
    }
   ],
   "source": [
    "P = veps[:, idx[:5]]\n",
    "\n",
    "\n",
    "x_train_mu = x_train\n",
    "x_hat_train = np.dot(x_train_mu,P)\n",
    "x_test_mu = x_test\n",
    "x_hat_test = np.dot(x_test_mu,P)\n",
    "\n",
    "clf  = neighbors.KNeighborsClassifier(n_neighbors=1)\n",
    "clf  = clf.fit(x_hat_train,y_train)\n",
    "\n",
    "clf.score(x_hat_test,y_test)"
   ]
  },
  {
   "cell_type": "markdown",
   "metadata": {},
   "source": [
    "### Solution applying KNN with the LDA"
   ]
  },
  {
   "cell_type": "code",
   "execution_count": 68,
   "metadata": {
    "collapsed": true
   },
   "outputs": [],
   "source": [
    "x_bar = np.mean(x_train,axis=0)\n",
    "x_train_class_0 = x_train[np.where(y_train == 0)]\n",
    "x_train_class_1 = x_train[np.where(y_train == 1)]\n",
    "\n",
    "mu_0 = np.mean(x_train_class_0,axis=0)\n",
    "mu_1 = np.mean(x_train_class_1,axis=0)\n",
    "\n",
    "m0x = mu_0-x_bar\n",
    "m1x = mu_1-x_bar\n",
    "Sb = np.dot(m0x[:,np.newaxis],m0x[:,np.newaxis].T)+np.dot(m1x[:,np.newaxis],m1x[:,np.newaxis].T)\n",
    "\n",
    "Sw = np.dot((x_train_class_0-mu_0).T,(x_train_class_0-mu_0)) + np.dot((x_train_class_1-mu_1).T,(x_train_class_1-mu_1))"
   ]
  },
  {
   "cell_type": "code",
   "execution_count": 69,
   "metadata": {
    "collapsed": true
   },
   "outputs": [],
   "source": [
    "A = np.dot(np.linalg.inv(Sw),Sb)\n",
    "vaps,veps = np.linalg.eig(A)\n",
    "idx = np.argsort(vaps)[::-1]"
   ]
  },
  {
   "cell_type": "code",
   "execution_count": 70,
   "metadata": {},
   "outputs": [
    {
     "name": "stderr",
     "output_type": "stream",
     "text": [
      "/usr/local/lib/python3.5/dist-packages/numpy/core/numeric.py:531: ComplexWarning: Casting complex values to real discards the imaginary part\n",
      "  return array(a, dtype, copy=False, order=order)\n",
      "/usr/local/lib/python3.5/dist-packages/sklearn/utils/validation.py:433: ComplexWarning: Casting complex values to real discards the imaginary part\n",
      "  array = np.array(array, dtype=dtype, order=order, copy=copy)\n"
     ]
    },
    {
     "data": {
      "image/png": "[encoded data removed]",
      "text/plain": [
       "<matplotlib.figure.Figure at 0x7f03d9bdd8d0>"
      ]
     },
     "metadata": {},
     "output_type": "display_data"
    }
   ],
   "source": [
    "s = []\n",
    "for i in range(1,veps.shape[1]):\n",
    "    P = veps[:,idx[:i]]\n",
    "    x_hat_train = np.dot(x_train,P)\n",
    "    x_hat_test = np.dot(x_test,P)\n",
    "\n",
    "    clf  = neighbors.KNeighborsClassifier(n_neighbors=1)\n",
    "    clf  = clf.fit(x_hat_train,y_train)\n",
    "\n",
    "    s.append(clf.score(x_hat_test,y_test))\n",
    "plt.plot(s)\n",
    "plt.show()"
   ]
  },
  {
   "cell_type": "markdown",
   "metadata": {},
   "source": [
    "In the plot, we  can see that just taking the component with maxim eigen value we arrive to the optimal solution which is better than those obtained by using PCA or only the KNN."
   ]
  },
  {
   "cell_type": "code",
   "execution_count": 72,
   "metadata": {},
   "outputs": [
    {
     "name": "stderr",
     "output_type": "stream",
     "text": [
      "/usr/local/lib/python3.5/dist-packages/numpy/core/numeric.py:531: ComplexWarning: Casting complex values to real discards the imaginary part\n",
      "  return array(a, dtype, copy=False, order=order)\n",
      "/usr/local/lib/python3.5/dist-packages/sklearn/utils/validation.py:433: ComplexWarning: Casting complex values to real discards the imaginary part\n",
      "  array = np.array(array, dtype=dtype, order=order, copy=copy)\n"
     ]
    },
    {
     "data": {
      "text/plain": [
       "0.95321637426900585"
      ]
     },
     "execution_count": 72,
     "metadata": {},
     "output_type": "execute_result"
    }
   ],
   "source": [
    "P = veps[:,:1]\n",
    "\n",
    "x_train_mu = x_train\n",
    "x_hat_train = np.dot(x_train_mu,P)\n",
    "x_test_mu = x_test\n",
    "x_hat_test = np.dot(x_test_mu,P)\n",
    "\n",
    "clf  = neighbors.KNeighborsClassifier(n_neighbors=1)\n",
    "clf  = clf.fit(x_hat_train,y_train)\n",
    "\n",
    "clf.score(x_hat_test,y_test)"
   ]
  }
 ],
 "metadata": {
  "kernelspec": {
   "display_name": "Python 3",
   "language": "python",
   "name": "python3"
  },
  "language_info": {
   "codemirror_mode": {
    "name": "ipython",
    "version": 3
   },
   "file_extension": ".py",
   "mimetype": "text/x-python",
   "name": "python",
   "nbconvert_exporter": "python",
   "pygments_lexer": "ipython3",
   "version": "3.6.2"
  }
 },
 "nbformat": 4,
 "nbformat_minor": 1
}
