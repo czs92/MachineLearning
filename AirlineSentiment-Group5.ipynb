{
 "cells": [
  {
   "cell_type": "markdown",
   "metadata": {},
   "source": [
    "# Airline Kaggle"
   ]
  },
  {
   "cell_type": "markdown",
   "metadata": {},
   "source": [
    "This challenge is about sentiment analysis from twitter data. Sentiment analysis concerns the opinions or views underlying in tweets. In this challenge we will predict sentiment with respect of six different airline companies during February in 2015. The data set contains about 80k annotated tweets. Each tweet has been labeled as {positive, negative, neutral} label. We have additional information in the data set, such as location, etc."
   ]
  },
  {
   "cell_type": "code",
   "execution_count": 1,
   "metadata": {
    "collapsed": true
   },
   "outputs": [],
   "source": [
    "import matplotlib.pyplot as plt\n",
    "%matplotlib inline\n",
    "import pandas as pd\n",
    "from sklearn.model_selection import train_test_split\n",
    "import numpy as np\n",
    "import seaborn as sns"
   ]
  },
  {
   "cell_type": "code",
   "execution_count": 2,
   "metadata": {},
   "outputs": [
    {
     "data": {
      "text/html": [
       "<div>\n",
       "<style>\n",
       "    .dataframe thead tr:only-child th {\n",
       "        text-align: right;\n",
       "    }\n",
       "\n",
       "    .dataframe thead th {\n",
       "        text-align: left;\n",
       "    }\n",
       "\n",
       "    .dataframe tbody tr th {\n",
       "        vertical-align: top;\n",
       "    }\n",
       "</style>\n",
       "<table border=\"1\" class=\"dataframe\">\n",
       "  <thead>\n",
       "    <tr style=\"text-align: right;\">\n",
       "      <th></th>\n",
       "      <th>Id</th>\n",
       "      <th>airline_sentiment</th>\n",
       "      <th>airline</th>\n",
       "      <th>retweet_count</th>\n",
       "      <th>text</th>\n",
       "      <th>tweet_coord</th>\n",
       "      <th>tweet_location</th>\n",
       "      <th>user_timezone</th>\n",
       "      <th>period</th>\n",
       "    </tr>\n",
       "  </thead>\n",
       "  <tbody>\n",
       "    <tr>\n",
       "      <th>0</th>\n",
       "      <td>0</td>\n",
       "      <td>positive</td>\n",
       "      <td>Delta</td>\n",
       "      <td>0</td>\n",
       "      <td>@JetBlue I'll pass along the advice. You guys ...</td>\n",
       "      <td>NaN</td>\n",
       "      <td>Massachusetts</td>\n",
       "      <td>Central Time (US &amp; Canada)</td>\n",
       "      <td>1</td>\n",
       "    </tr>\n",
       "    <tr>\n",
       "      <th>1</th>\n",
       "      <td>1</td>\n",
       "      <td>negative</td>\n",
       "      <td>United</td>\n",
       "      <td>0</td>\n",
       "      <td>@united I sent you a dm with my file reference...</td>\n",
       "      <td>NaN</td>\n",
       "      <td>ny</td>\n",
       "      <td>Quito</td>\n",
       "      <td>1</td>\n",
       "    </tr>\n",
       "    <tr>\n",
       "      <th>2</th>\n",
       "      <td>2</td>\n",
       "      <td>positive</td>\n",
       "      <td>Southwest</td>\n",
       "      <td>0</td>\n",
       "      <td>@SouthwestAir Black History Commercial is real...</td>\n",
       "      <td>NaN</td>\n",
       "      <td>La Florida</td>\n",
       "      <td>Eastern Time (US &amp; Canada)</td>\n",
       "      <td>1</td>\n",
       "    </tr>\n",
       "    <tr>\n",
       "      <th>3</th>\n",
       "      <td>3</td>\n",
       "      <td>negative</td>\n",
       "      <td>Southwest</td>\n",
       "      <td>0</td>\n",
       "      <td>@SouthwestAir why am I still in Baltimore?! @d...</td>\n",
       "      <td>[39.1848041, -76.6787131]</td>\n",
       "      <td>Tallahassee, FL</td>\n",
       "      <td>America/Chicago</td>\n",
       "      <td>1</td>\n",
       "    </tr>\n",
       "    <tr>\n",
       "      <th>4</th>\n",
       "      <td>4</td>\n",
       "      <td>positive</td>\n",
       "      <td>Southwest</td>\n",
       "      <td>0</td>\n",
       "      <td>@SouthwestAir SEA to DEN. South Sound Volleyba...</td>\n",
       "      <td>NaN</td>\n",
       "      <td>NaN</td>\n",
       "      <td>Pacific Time (US &amp; Canada)</td>\n",
       "      <td>1</td>\n",
       "    </tr>\n",
       "  </tbody>\n",
       "</table>\n",
       "</div>"
      ],
      "text/plain": [
       "   Id airline_sentiment    airline  retweet_count  \\\n",
       "0   0          positive      Delta              0   \n",
       "1   1          negative     United              0   \n",
       "2   2          positive  Southwest              0   \n",
       "3   3          negative  Southwest              0   \n",
       "4   4          positive  Southwest              0   \n",
       "\n",
       "                                                text  \\\n",
       "0  @JetBlue I'll pass along the advice. You guys ...   \n",
       "1  @united I sent you a dm with my file reference...   \n",
       "2  @SouthwestAir Black History Commercial is real...   \n",
       "3  @SouthwestAir why am I still in Baltimore?! @d...   \n",
       "4  @SouthwestAir SEA to DEN. South Sound Volleyba...   \n",
       "\n",
       "                 tweet_coord   tweet_location               user_timezone  \\\n",
       "0                        NaN    Massachusetts  Central Time (US & Canada)   \n",
       "1                        NaN               ny                       Quito   \n",
       "2                        NaN       La Florida  Eastern Time (US & Canada)   \n",
       "3  [39.1848041, -76.6787131]  Tallahassee, FL             America/Chicago   \n",
       "4                        NaN              NaN  Pacific Time (US & Canada)   \n",
       "\n",
       "   period  \n",
       "0       1  \n",
       "1       1  \n",
       "2       1  \n",
       "3       1  \n",
       "4       1  "
      ]
     },
     "execution_count": 2,
     "metadata": {},
     "output_type": "execute_result"
    }
   ],
   "source": [
    "train = pd.read_csv('data/train.csv', sep=\",\")\n",
    "test  = pd.read_csv('data/test.csv', sep=\",\")\n",
    "train['period'] = 1\n",
    "test['period'] = 0\n",
    "train.head()"
   ]
  },
  {
   "cell_type": "markdown",
   "metadata": {},
   "source": [
    "Merge both data frames in one, so it will be easier manage the features in both sets"
   ]
  },
  {
   "cell_type": "code",
   "execution_count": 3,
   "metadata": {},
   "outputs": [
    {
     "data": {
      "text/html": [
       "<div>\n",
       "<style>\n",
       "    .dataframe thead tr:only-child th {\n",
       "        text-align: right;\n",
       "    }\n",
       "\n",
       "    .dataframe thead th {\n",
       "        text-align: left;\n",
       "    }\n",
       "\n",
       "    .dataframe tbody tr th {\n",
       "        vertical-align: top;\n",
       "    }\n",
       "</style>\n",
       "<table border=\"1\" class=\"dataframe\">\n",
       "  <thead>\n",
       "    <tr style=\"text-align: right;\">\n",
       "      <th></th>\n",
       "      <th>Id</th>\n",
       "      <th>airline</th>\n",
       "      <th>airline_sentiment</th>\n",
       "      <th>period</th>\n",
       "      <th>retweet_count</th>\n",
       "      <th>text</th>\n",
       "      <th>tweet_coord</th>\n",
       "      <th>tweet_location</th>\n",
       "      <th>user_timezone</th>\n",
       "    </tr>\n",
       "  </thead>\n",
       "  <tbody>\n",
       "    <tr>\n",
       "      <th>0</th>\n",
       "      <td>0</td>\n",
       "      <td>Delta</td>\n",
       "      <td>positive</td>\n",
       "      <td>1</td>\n",
       "      <td>0</td>\n",
       "      <td>@JetBlue I'll pass along the advice. You guys ...</td>\n",
       "      <td>NaN</td>\n",
       "      <td>Massachusetts</td>\n",
       "      <td>Central Time (US &amp; Canada)</td>\n",
       "    </tr>\n",
       "    <tr>\n",
       "      <th>1</th>\n",
       "      <td>1</td>\n",
       "      <td>United</td>\n",
       "      <td>negative</td>\n",
       "      <td>1</td>\n",
       "      <td>0</td>\n",
       "      <td>@united I sent you a dm with my file reference...</td>\n",
       "      <td>NaN</td>\n",
       "      <td>ny</td>\n",
       "      <td>Quito</td>\n",
       "    </tr>\n",
       "    <tr>\n",
       "      <th>2</th>\n",
       "      <td>2</td>\n",
       "      <td>Southwest</td>\n",
       "      <td>positive</td>\n",
       "      <td>1</td>\n",
       "      <td>0</td>\n",
       "      <td>@SouthwestAir Black History Commercial is real...</td>\n",
       "      <td>NaN</td>\n",
       "      <td>La Florida</td>\n",
       "      <td>Eastern Time (US &amp; Canada)</td>\n",
       "    </tr>\n",
       "    <tr>\n",
       "      <th>3</th>\n",
       "      <td>3</td>\n",
       "      <td>Southwest</td>\n",
       "      <td>negative</td>\n",
       "      <td>1</td>\n",
       "      <td>0</td>\n",
       "      <td>@SouthwestAir why am I still in Baltimore?! @d...</td>\n",
       "      <td>[39.1848041, -76.6787131]</td>\n",
       "      <td>Tallahassee, FL</td>\n",
       "      <td>America/Chicago</td>\n",
       "    </tr>\n",
       "    <tr>\n",
       "      <th>4</th>\n",
       "      <td>4</td>\n",
       "      <td>Southwest</td>\n",
       "      <td>positive</td>\n",
       "      <td>1</td>\n",
       "      <td>0</td>\n",
       "      <td>@SouthwestAir SEA to DEN. South Sound Volleyba...</td>\n",
       "      <td>NaN</td>\n",
       "      <td>NaN</td>\n",
       "      <td>Pacific Time (US &amp; Canada)</td>\n",
       "    </tr>\n",
       "  </tbody>\n",
       "</table>\n",
       "</div>"
      ],
      "text/plain": [
       "   Id    airline airline_sentiment  period  retweet_count  \\\n",
       "0   0      Delta          positive       1              0   \n",
       "1   1     United          negative       1              0   \n",
       "2   2  Southwest          positive       1              0   \n",
       "3   3  Southwest          negative       1              0   \n",
       "4   4  Southwest          positive       1              0   \n",
       "\n",
       "                                                text  \\\n",
       "0  @JetBlue I'll pass along the advice. You guys ...   \n",
       "1  @united I sent you a dm with my file reference...   \n",
       "2  @SouthwestAir Black History Commercial is real...   \n",
       "3  @SouthwestAir why am I still in Baltimore?! @d...   \n",
       "4  @SouthwestAir SEA to DEN. South Sound Volleyba...   \n",
       "\n",
       "                 tweet_coord   tweet_location               user_timezone  \n",
       "0                        NaN    Massachusetts  Central Time (US & Canada)  \n",
       "1                        NaN               ny                       Quito  \n",
       "2                        NaN       La Florida  Eastern Time (US & Canada)  \n",
       "3  [39.1848041, -76.6787131]  Tallahassee, FL             America/Chicago  \n",
       "4                        NaN              NaN  Pacific Time (US & Canada)  "
      ]
     },
     "execution_count": 3,
     "metadata": {},
     "output_type": "execute_result"
    }
   ],
   "source": [
    "df = pd.concat([train, test])\n",
    "df.head()"
   ]
  },
  {
   "cell_type": "markdown",
   "metadata": {},
   "source": [
    "Extract twitter account from the message and create another column with this information. Moreover, we will convert all text into lowercase"
   ]
  },
  {
   "cell_type": "code",
   "execution_count": 4,
   "metadata": {},
   "outputs": [
    {
     "data": {
      "text/html": [
       "<div>\n",
       "<style>\n",
       "    .dataframe thead tr:only-child th {\n",
       "        text-align: right;\n",
       "    }\n",
       "\n",
       "    .dataframe thead th {\n",
       "        text-align: left;\n",
       "    }\n",
       "\n",
       "    .dataframe tbody tr th {\n",
       "        vertical-align: top;\n",
       "    }\n",
       "</style>\n",
       "<table border=\"1\" class=\"dataframe\">\n",
       "  <thead>\n",
       "    <tr style=\"text-align: right;\">\n",
       "      <th></th>\n",
       "      <th>Id</th>\n",
       "      <th>airline</th>\n",
       "      <th>airline_sentiment</th>\n",
       "      <th>period</th>\n",
       "      <th>retweet_count</th>\n",
       "      <th>text</th>\n",
       "      <th>tweet_coord</th>\n",
       "      <th>tweet_location</th>\n",
       "      <th>user_timezone</th>\n",
       "      <th>tweet_acc</th>\n",
       "    </tr>\n",
       "  </thead>\n",
       "  <tbody>\n",
       "    <tr>\n",
       "      <th>0</th>\n",
       "      <td>0</td>\n",
       "      <td>Delta</td>\n",
       "      <td>positive</td>\n",
       "      <td>1</td>\n",
       "      <td>0</td>\n",
       "      <td>I'll pass along the advice. You guys rock!!</td>\n",
       "      <td>NaN</td>\n",
       "      <td>Massachusetts</td>\n",
       "      <td>Central Time (US &amp; Canada)</td>\n",
       "      <td>@JetBlue</td>\n",
       "    </tr>\n",
       "    <tr>\n",
       "      <th>1</th>\n",
       "      <td>1</td>\n",
       "      <td>United</td>\n",
       "      <td>negative</td>\n",
       "      <td>1</td>\n",
       "      <td>0</td>\n",
       "      <td>I sent you a dm with my file reference number....</td>\n",
       "      <td>NaN</td>\n",
       "      <td>ny</td>\n",
       "      <td>Quito</td>\n",
       "      <td>@united</td>\n",
       "    </tr>\n",
       "    <tr>\n",
       "      <th>2</th>\n",
       "      <td>2</td>\n",
       "      <td>Southwest</td>\n",
       "      <td>positive</td>\n",
       "      <td>1</td>\n",
       "      <td>0</td>\n",
       "      <td>Black History Commercial is really sweet. Well...</td>\n",
       "      <td>NaN</td>\n",
       "      <td>La Florida</td>\n",
       "      <td>Eastern Time (US &amp; Canada)</td>\n",
       "      <td>@SouthwestAir</td>\n",
       "    </tr>\n",
       "    <tr>\n",
       "      <th>3</th>\n",
       "      <td>3</td>\n",
       "      <td>Southwest</td>\n",
       "      <td>negative</td>\n",
       "      <td>1</td>\n",
       "      <td>0</td>\n",
       "      <td>why am I still in Baltimore?! @delta is doing ...</td>\n",
       "      <td>[39.1848041, -76.6787131]</td>\n",
       "      <td>Tallahassee, FL</td>\n",
       "      <td>America/Chicago</td>\n",
       "      <td>@SouthwestAir</td>\n",
       "    </tr>\n",
       "    <tr>\n",
       "      <th>4</th>\n",
       "      <td>4</td>\n",
       "      <td>Southwest</td>\n",
       "      <td>positive</td>\n",
       "      <td>1</td>\n",
       "      <td>0</td>\n",
       "      <td>SEA to DEN. South Sound Volleyball team on its...</td>\n",
       "      <td>NaN</td>\n",
       "      <td>NaN</td>\n",
       "      <td>Pacific Time (US &amp; Canada)</td>\n",
       "      <td>@SouthwestAir</td>\n",
       "    </tr>\n",
       "  </tbody>\n",
       "</table>\n",
       "</div>"
      ],
      "text/plain": [
       "   Id    airline airline_sentiment  period  retweet_count  \\\n",
       "0   0      Delta          positive       1              0   \n",
       "1   1     United          negative       1              0   \n",
       "2   2  Southwest          positive       1              0   \n",
       "3   3  Southwest          negative       1              0   \n",
       "4   4  Southwest          positive       1              0   \n",
       "\n",
       "                                                text  \\\n",
       "0        I'll pass along the advice. You guys rock!!   \n",
       "1  I sent you a dm with my file reference number....   \n",
       "2  Black History Commercial is really sweet. Well...   \n",
       "3  why am I still in Baltimore?! @delta is doing ...   \n",
       "4  SEA to DEN. South Sound Volleyball team on its...   \n",
       "\n",
       "                 tweet_coord   tweet_location               user_timezone  \\\n",
       "0                        NaN    Massachusetts  Central Time (US & Canada)   \n",
       "1                        NaN               ny                       Quito   \n",
       "2                        NaN       La Florida  Eastern Time (US & Canada)   \n",
       "3  [39.1848041, -76.6787131]  Tallahassee, FL             America/Chicago   \n",
       "4                        NaN              NaN  Pacific Time (US & Canada)   \n",
       "\n",
       "       tweet_acc  \n",
       "0       @JetBlue  \n",
       "1        @united  \n",
       "2  @SouthwestAir  \n",
       "3  @SouthwestAir  \n",
       "4  @SouthwestAir  "
      ]
     },
     "execution_count": 4,
     "metadata": {},
     "output_type": "execute_result"
    }
   ],
   "source": [
    "# Extract twitter information\n",
    "df['tweet_acc'] = df['text'].str.split(' ', 1).str.get(0) #df.text.str.split().str.get(0)\n",
    "df['text'] = df['text'].str.split(' ', 1).str[-1]\n",
    "df.head()"
   ]
  },
  {
   "cell_type": "markdown",
   "metadata": {},
   "source": [
    "## Data Analysis"
   ]
  },
  {
   "cell_type": "markdown",
   "metadata": {},
   "source": [
    "Counting the number of each type of sentiments to know if the dataset is balanced or not"
   ]
  },
  {
   "cell_type": "code",
   "execution_count": 5,
   "metadata": {},
   "outputs": [
    {
     "data": {
      "text/plain": [
       "negative    5519\n",
       "neutral     1857\n",
       "positive    1408\n",
       "Name: airline_sentiment, dtype: int64"
      ]
     },
     "execution_count": 5,
     "metadata": {},
     "output_type": "execute_result"
    }
   ],
   "source": [
    "df.airline_sentiment.value_counts()"
   ]
  },
  {
   "cell_type": "markdown",
   "metadata": {},
   "source": [
    "And a visualization to make with the percentatges"
   ]
  },
  {
   "cell_type": "code",
   "execution_count": 6,
   "metadata": {},
   "outputs": [
    {
     "data": {
      "text/plain": [
       "<matplotlib.axes._subplots.AxesSubplot at 0x1163de588>"
      ]
     },
     "execution_count": 6,
     "metadata": {},
     "output_type": "execute_result"
    },
    {
     "data": {
      "image/png": "[encoded data removed]",
      "text/plain": [
       "<matplotlib.figure.Figure at 0x1163ded30>"
      ]
     },
     "metadata": {},
     "output_type": "display_data"
    }
   ],
   "source": [
    "colors=sns.color_palette(\"husl\", 10)\n",
    "pd.Series(df[\"airline_sentiment\"]).value_counts().plot(kind=\"pie\", colors=colors,\n",
    "    labels=[\"negative\", \"neutral\", \"positive\"],explode=[0.05,0.02,0.04],\n",
    "    shadow=True,autopct='%.2f', fontsize=12,figsize=(6, 6),title = \"Total Tweets for Each Sentiment\")"
   ]
  },
  {
   "cell_type": "markdown",
   "metadata": {},
   "source": [
    "Let's plot how many tweets each airline has received"
   ]
  },
  {
   "cell_type": "code",
   "execution_count": 7,
   "metadata": {},
   "outputs": [
    {
     "data": {
      "text/plain": [
       "<matplotlib.text.Text at 0x115c87828>"
      ]
     },
     "execution_count": 7,
     "metadata": {},
     "output_type": "execute_result"
    },
    {
     "data": {
      "image/png": "[encoded data removed]",
      "text/plain": [
       "<matplotlib.figure.Figure at 0x116378470>"
      ]
     },
     "metadata": {},
     "output_type": "display_data"
    }
   ],
   "source": [
    "colors=sns.color_palette(\"husl\", 10) \n",
    "pd.Series(df[\"airline\"]).value_counts().plot(kind = \"bar\",\n",
    "                                             color=colors, figsize=(10,6),\n",
    "                                             fontsize=10, rot = 0, \n",
    "                                             title = \"Total No. of Tweets for each Airlines\")\n",
    "plt.xlabel('Airlines', fontsize=10)\n",
    "plt.ylabel('No. of Tweets', fontsize=10)"
   ]
  },
  {
   "cell_type": "markdown",
   "metadata": {},
   "source": [
    "Percentage of tweets for each airline splitted by sentiment"
   ]
  },
  {
   "cell_type": "code",
   "execution_count": 8,
   "metadata": {
    "scrolled": true
   },
   "outputs": [
    {
     "data": {
      "text/html": [
       "<div>\n",
       "<style>\n",
       "    .dataframe thead tr:only-child th {\n",
       "        text-align: right;\n",
       "    }\n",
       "\n",
       "    .dataframe thead th {\n",
       "        text-align: left;\n",
       "    }\n",
       "\n",
       "    .dataframe tbody tr th {\n",
       "        vertical-align: top;\n",
       "    }\n",
       "</style>\n",
       "<table border=\"1\" class=\"dataframe\">\n",
       "  <thead>\n",
       "    <tr style=\"text-align: right;\">\n",
       "      <th>airline_sentiment</th>\n",
       "      <th>negative</th>\n",
       "      <th>neutral</th>\n",
       "      <th>positive</th>\n",
       "    </tr>\n",
       "    <tr>\n",
       "      <th>airline</th>\n",
       "      <th></th>\n",
       "      <th></th>\n",
       "      <th></th>\n",
       "    </tr>\n",
       "  </thead>\n",
       "  <tbody>\n",
       "    <tr>\n",
       "      <th>American</th>\n",
       "      <td>69.93</td>\n",
       "      <td>18.04</td>\n",
       "      <td>12.03</td>\n",
       "    </tr>\n",
       "    <tr>\n",
       "      <th>Delta</th>\n",
       "      <td>42.08</td>\n",
       "      <td>33.38</td>\n",
       "      <td>24.54</td>\n",
       "    </tr>\n",
       "    <tr>\n",
       "      <th>Southwest</th>\n",
       "      <td>48.95</td>\n",
       "      <td>27.27</td>\n",
       "      <td>23.78</td>\n",
       "    </tr>\n",
       "    <tr>\n",
       "      <th>US Airways</th>\n",
       "      <td>77.73</td>\n",
       "      <td>12.53</td>\n",
       "      <td>9.74</td>\n",
       "    </tr>\n",
       "    <tr>\n",
       "      <th>United</th>\n",
       "      <td>69.80</td>\n",
       "      <td>17.83</td>\n",
       "      <td>12.37</td>\n",
       "    </tr>\n",
       "    <tr>\n",
       "      <th>Virgin America</th>\n",
       "      <td>38.82</td>\n",
       "      <td>31.91</td>\n",
       "      <td>29.28</td>\n",
       "    </tr>\n",
       "  </tbody>\n",
       "</table>\n",
       "</div>"
      ],
      "text/plain": [
       "airline_sentiment  negative  neutral  positive\n",
       "airline                                       \n",
       "American              69.93    18.04     12.03\n",
       "Delta                 42.08    33.38     24.54\n",
       "Southwest             48.95    27.27     23.78\n",
       "US Airways            77.73    12.53      9.74\n",
       "United                69.80    17.83     12.37\n",
       "Virgin America        38.82    31.91     29.28"
      ]
     },
     "execution_count": 8,
     "metadata": {},
     "output_type": "execute_result"
    }
   ],
   "source": [
    "air_senti=pd.crosstab(df.airline, df.airline_sentiment)\n",
    "percent=air_senti.apply(lambda a: round(a / a.sum() * 100, 2), axis=1)\n",
    "percent"
   ]
  },
  {
   "cell_type": "markdown",
   "metadata": {},
   "source": [
    "### Missing data"
   ]
  },
  {
   "cell_type": "markdown",
   "metadata": {},
   "source": [
    "How many missing data we have in the dataset? We can see that the percentatge of the missing data is equal in the train and test set"
   ]
  },
  {
   "cell_type": "code",
   "execution_count": 9,
   "metadata": {},
   "outputs": [
    {
     "name": "stdout",
     "output_type": "stream",
     "text": [
      "Id                    0.000000\n",
      "airline_sentiment     0.000000\n",
      "airline               0.000000\n",
      "retweet_count         0.000000\n",
      "text                  0.000000\n",
      "tweet_coord          92.736794\n",
      "tweet_location       31.898907\n",
      "user_timezone        33.128415\n",
      "period                0.000000\n",
      "dtype: float64 Id                 0.000000\n",
      "airline            0.000000\n",
      "retweet_count      0.000000\n",
      "text               0.000000\n",
      "tweet_coord       93.493852\n",
      "tweet_location    32.974727\n",
      "user_timezone     32.616120\n",
      "period             0.000000\n",
      "dtype: float64\n"
     ]
    }
   ],
   "source": [
    "pct_na_train = train.isnull().sum()/len(train)*100\n",
    "pct_na_test = test.isnull().sum()/len(test)*100\n",
    "print(pct_na_train, pct_na_test)"
   ]
  },
  {
   "cell_type": "code",
   "execution_count": 10,
   "metadata": {},
   "outputs": [
    {
     "data": {
      "text/plain": [
       "<matplotlib.text.Text at 0x1a1f423a20>"
      ]
     },
     "execution_count": 10,
     "metadata": {},
     "output_type": "execute_result"
    },
    {
     "data": {
      "image/png": "[encoded data removed]",
      "text/plain": [
       "<matplotlib.figure.Figure at 0x1163b4e80>"
      ]
     },
     "metadata": {},
     "output_type": "display_data"
    }
   ],
   "source": [
    "colors=sns.color_palette(\"husl\", 10) \n",
    "pd.Series(pct_na_train).plot(kind = \"bar\",\n",
    "                             color=colors, figsize=(10,6),\n",
    "                             fontsize=12, rot = 45, \n",
    "                             title = \"Percentatge of missing data in each variable\")\n",
    "plt.xlabel('Variables', fontsize=12)\n",
    "plt.ylabel('Missing data in %', fontsize=12)"
   ]
  },
  {
   "cell_type": "markdown",
   "metadata": {},
   "source": [
    "With this missing data we can try three things: \n",
    "\n",
    "1. Remove the three columns that has missing data.\n",
    "2. Remove the rows that has missing data in that columns but before that we shoud check how this missing data are distributed because it could be the case that all the rows affected where from on specific class.\n",
    "3. Impute the values of the 'tweet_location' and 'user_timezone' and remove 'tweet_coord' (due to the high number os missings) "
   ]
  },
  {
   "cell_type": "markdown",
   "metadata": {},
   "source": [
    "How complex/difficult it can be impute the missing values?"
   ]
  },
  {
   "cell_type": "code",
   "execution_count": 11,
   "metadata": {},
   "outputs": [
    {
     "name": "stdout",
     "output_type": "stream",
     "text": [
      "There are 3082 unique values in \"tweet_location\" and 86 in \"user_timezone.\"\n"
     ]
    }
   ],
   "source": [
    "print('There are {} unique values in \"tweet_location\" and {} in \"user_timezone.\"' .\n",
    "      format(len(df.tweet_location.unique()), len(df.user_timezone.unique())))"
   ]
  },
  {
   "cell_type": "markdown",
   "metadata": {},
   "source": [
    "## Preprocessing"
   ]
  },
  {
   "cell_type": "markdown",
   "metadata": {},
   "source": [
    "The objective of this part is extract features from the text and create new variables that may improve the performance of our models"
   ]
  },
  {
   "cell_type": "markdown",
   "metadata": {},
   "source": [
    "### Split data"
   ]
  },
  {
   "cell_type": "markdown",
   "metadata": {},
   "source": [
    "After some preprocessing task and feature creation we can split again the data set into a train and test sets."
   ]
  },
  {
   "cell_type": "code",
   "execution_count": 12,
   "metadata": {
    "collapsed": true
   },
   "outputs": [],
   "source": [
    "train = df[(df.period == 1)]\n",
    "test  = df[(df.period == 0)]\n",
    "\n",
    "X = train[train.columns.difference(['airline_sentiment'])]\n",
    "y = train['airline_sentiment']"
   ]
  },
  {
   "cell_type": "markdown",
   "metadata": {},
   "source": [
    "Then we are going to split the training data set in order to be able to evaluate different models and build ensembles. We will create train, evaluation and test."
   ]
  },
  {
   "cell_type": "code",
   "execution_count": 13,
   "metadata": {
    "collapsed": true
   },
   "outputs": [],
   "source": [
    "X_train, X_test, y_train, y_test = train_test_split(X, y, test_size = 0.33, random_state = 42)"
   ]
  },
  {
   "cell_type": "markdown",
   "metadata": {},
   "source": [
    "### Feature extraction from text"
   ]
  },
  {
   "cell_type": "code",
   "execution_count": 14,
   "metadata": {
    "collapsed": true
   },
   "outputs": [],
   "source": [
    "from __future__ import print_function\n",
    "\n",
    "from pprint import pprint\n",
    "from time import time\n",
    "import logging\n",
    "\n",
    "from sklearn.feature_extraction.text import CountVectorizer, TfidfTransformer\n",
    "from sklearn.naive_bayes import MultinomialNB\n",
    "from sklearn.model_selection import GridSearchCV\n",
    "\n",
    "from imblearn.pipeline import Pipeline \n",
    "from imblearn.over_sampling import SMOTE"
   ]
  },
  {
   "cell_type": "markdown",
   "metadata": {},
   "source": [
    "A Pipeline is used to concatenate the feature extraction, using CountVectorizer and TfidfTransformer, then Smote method to encrease the number of samples of the small class and finally the Multinomial Naive Bayes classifier. For each step of the pipeline we use a gridsearch to optimize the hyperparameters of each step."
   ]
  },
  {
   "cell_type": "code",
   "execution_count": 15,
   "metadata": {
    "collapsed": true
   },
   "outputs": [],
   "source": [
    "# Display progress logs on stdout\n",
    "logging.basicConfig(level=logging.INFO, \n",
    "                    format='%(asctime)s %(levelname)s %(message)s')\n",
    "\n",
    "# Define a pipeline combining for the text column\n",
    "smt = SMOTE(random_state=42)\n",
    "pipeline = Pipeline([\n",
    "    ('vect', CountVectorizer()),\n",
    "    ('tfidf', TfidfTransformer()),\n",
    "    ('smote', smt),\n",
    "    ('NaiveBayes', MultinomialNB()),\n",
    "])\n",
    "\n",
    "\n",
    "parameters = {\n",
    "    'vect__max_df': (0.4, 0.5, 0.6, 0.7),\n",
    "    'vect__max_features': [None],\n",
    "    'vect__ngram_range': ((1, 1), (1, 2)), # unigrams or bigrams\n",
    "    'vect__stop_words': [\"english\", None],\n",
    "    'tfidf__use_idf': (True, False),\n",
    "    'tfidf__norm': ('l1', 'l2'),\n",
    "    'NaiveBayes__alpha': [0.05, 0.1, 0.15, 0.2],\n",
    "    'NaiveBayes__fit_prior': (True, False),\n",
    "}\n",
    "\n",
    "target = y_train.values\n",
    "data = X_train['text'].values"
   ]
  },
  {
   "cell_type": "markdown",
   "metadata": {},
   "source": [
    "Multiprocessing requires the fork to happen in a __main__ protected block. For more information about this code:\n",
    "\n",
    "http://scikit-learn.org/stable/auto_examples/model_selection/grid_search_text_feature_extraction.html"
   ]
  },
  {
   "cell_type": "code",
   "execution_count": 16,
   "metadata": {},
   "outputs": [
    {
     "name": "stdout",
     "output_type": "stream",
     "text": [
      "Performing grid search...\n",
      "pipeline: ['vect', 'tfidf', 'smote', 'NaiveBayes']\n",
      "parameters:\n",
      "{'NaiveBayes__alpha': [0.05, 0.1, 0.15, 0.2],\n",
      " 'NaiveBayes__fit_prior': (True, False),\n",
      " 'tfidf__norm': ('l1', 'l2'),\n",
      " 'tfidf__use_idf': (True, False),\n",
      " 'vect__max_df': (0.4, 0.5, 0.6, 0.7),\n",
      " 'vect__max_features': [None],\n",
      " 'vect__ngram_range': ((1, 1), (1, 2)),\n",
      " 'vect__stop_words': ['english', None]}\n",
      "Fitting 3 folds for each of 512 candidates, totalling 1536 fits\n"
     ]
    },
    {
     "name": "stderr",
     "output_type": "stream",
     "text": [
      "[Parallel(n_jobs=-1)]: Done  42 tasks      | elapsed:   50.3s\n",
      "[Parallel(n_jobs=-1)]: Done 192 tasks      | elapsed:  4.4min\n",
      "[Parallel(n_jobs=-1)]: Done 442 tasks      | elapsed: 10.5min\n",
      "[Parallel(n_jobs=-1)]: Done 792 tasks      | elapsed: 18.9min\n",
      "[Parallel(n_jobs=-1)]: Done 1242 tasks      | elapsed: 29.5min\n",
      "[Parallel(n_jobs=-1)]: Done 1536 out of 1536 | elapsed: 36.5min finished\n"
     ]
    },
    {
     "name": "stdout",
     "output_type": "stream",
     "text": [
      "done in 2193.101s\n",
      "\n",
      "Best score: 0.781\n",
      "Best parameters set:\n",
      "\tNaiveBayes__alpha: 0.15\n",
      "\tNaiveBayes__fit_prior: True\n",
      "\ttfidf__norm: 'l2'\n",
      "\ttfidf__use_idf: False\n",
      "\tvect__max_df: 0.4\n",
      "\tvect__max_features: None\n",
      "\tvect__ngram_range: (1, 2)\n",
      "\tvect__stop_words: None\n"
     ]
    }
   ],
   "source": [
    "if __name__ == \"__main__\":\n",
    "    # find the best parameters for both the feature extraction and the\n",
    "    # classifier\n",
    "    grid_search = GridSearchCV(pipeline, parameters, n_jobs=-1, verbose=1, cv=3)\n",
    "\n",
    "    print(\"Performing grid search...\")\n",
    "    print(\"pipeline:\", [name for name, _ in pipeline.steps])\n",
    "    print(\"parameters:\")\n",
    "    pprint(parameters)\n",
    "    t0 = time()\n",
    "    grid_search.fit(data, target)\n",
    "    print(\"done in %0.3fs\" % (time() - t0))\n",
    "    print()\n",
    "\n",
    "    print(\"Best score: %0.3f\" % grid_search.best_score_)\n",
    "    print(\"Best parameters set:\")\n",
    "    best_parameters = grid_search.best_estimator_.get_params()\n",
    "    for param_name in sorted(parameters.keys()):\n",
    "        print(\"\\t%s: %r\" % (param_name, best_parameters[param_name]))\n",
    "        "
   ]
  },
  {
   "cell_type": "code",
   "execution_count": 17,
   "metadata": {},
   "outputs": [
    {
     "name": "stdout",
     "output_type": "stream",
     "text": [
      "             precision    recall  f1-score   support\n",
      "\n",
      "   negative       0.83      0.91      0.87      1816\n",
      "    neutral       0.66      0.54      0.59       630\n",
      "   positive       0.75      0.66      0.70       453\n",
      "\n",
      "avg / total       0.78      0.79      0.78      2899\n",
      "\n"
     ]
    }
   ],
   "source": [
    "# Esto seria con la validacion\n",
    "from sklearn.metrics import classification_report\n",
    "y_true, y_pred = y_test, grid_search.best_estimator_.predict(X_test['text'])\n",
    "print(classification_report(y_true, y_pred))"
   ]
  },
  {
   "cell_type": "markdown",
   "metadata": {},
   "source": [
    "## Prediction of Submission set"
   ]
  },
  {
   "cell_type": "code",
   "execution_count": 18,
   "metadata": {},
   "outputs": [
    {
     "data": {
      "text/html": [
       "<div>\n",
       "<style>\n",
       "    .dataframe thead tr:only-child th {\n",
       "        text-align: right;\n",
       "    }\n",
       "\n",
       "    .dataframe thead th {\n",
       "        text-align: left;\n",
       "    }\n",
       "\n",
       "    .dataframe tbody tr th {\n",
       "        vertical-align: top;\n",
       "    }\n",
       "</style>\n",
       "<table border=\"1\" class=\"dataframe\">\n",
       "  <thead>\n",
       "    <tr style=\"text-align: right;\">\n",
       "      <th></th>\n",
       "      <th>Prediction</th>\n",
       "    </tr>\n",
       "  </thead>\n",
       "  <tbody>\n",
       "    <tr>\n",
       "      <th>0</th>\n",
       "      <td>negative</td>\n",
       "    </tr>\n",
       "    <tr>\n",
       "      <th>1</th>\n",
       "      <td>negative</td>\n",
       "    </tr>\n",
       "    <tr>\n",
       "      <th>2</th>\n",
       "      <td>neutral</td>\n",
       "    </tr>\n",
       "    <tr>\n",
       "      <th>3</th>\n",
       "      <td>negative</td>\n",
       "    </tr>\n",
       "    <tr>\n",
       "      <th>4</th>\n",
       "      <td>positive</td>\n",
       "    </tr>\n",
       "  </tbody>\n",
       "</table>\n",
       "</div>"
      ],
      "text/plain": [
       "  Prediction\n",
       "0   negative\n",
       "1   negative\n",
       "2    neutral\n",
       "3   negative\n",
       "4   positive"
      ]
     },
     "execution_count": 18,
     "metadata": {},
     "output_type": "execute_result"
    }
   ],
   "source": [
    "# Predictions\n",
    "y_pred = grid_search.best_estimator_.predict(test['text'])\n",
    "\n",
    "# Create the submission file\n",
    "submission = pd.DataFrame()\n",
    "submission[\"Prediction\"]=y_pred\n",
    "\n",
    "submission.to_csv(\"submission.csv\", index_label=\"Id\")\n",
    "submission.head()"
   ]
  }
 ],
 "metadata": {
  "kernelspec": {
   "display_name": "Python 3",
   "language": "python",
   "name": "python3"
  },
  "language_info": {
   "codemirror_mode": {
    "name": "ipython",
    "version": 3
   },
   "file_extension": ".py",
   "mimetype": "text/x-python",
   "name": "python",
   "nbconvert_exporter": "python",
   "pygments_lexer": "ipython3",
   "version": "3.6.2"
  }
 },
 "nbformat": 4,
 "nbformat_minor": 2
}
