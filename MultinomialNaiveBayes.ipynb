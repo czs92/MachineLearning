{
 "cells": [
  {
   "cell_type": "code",
   "execution_count": 12,
   "metadata": {
    "collapsed": true
   },
   "outputs": [],
   "source": [
    "%matplotlib inline\n",
    "import matplotlib.pyplot as plt\n",
    "from sklearn import metrics\n",
    "import numpy as np"
   ]
  },
  {
   "cell_type": "code",
   "execution_count": 13,
   "metadata": {
    "collapsed": true
   },
   "outputs": [],
   "source": [
    "import numpy as np\n",
    "\n",
    "class MultinomialNaiveBayes():\n",
    "    def __init__(self):\n",
    "        self.prob_vec = {}\n",
    "        self.classes  = []\n",
    "        \n",
    "    def fit(self,X,y):\n",
    "        # extract the probabilities for each element for different classes\n",
    "        self.classes = np.unique(y)\n",
    "        occurences = np.where(X != 0, 1.0, 0.0)\n",
    "        for c in self.classes:\n",
    "            idx = np.where(y==c)[0]\n",
    "            N = len(idx)\n",
    "            \n",
    "            self.prob_vec[c] = np.log(np.sum(occurences[idx,:],axis=0)/N+1e-10)\n",
    "        \n",
    "    def predict_proba(self,X):\n",
    "        #Output matrix N_documents X N_classes\n",
    "        probs = np.zeros((X.shape[0],len(self.classes)))\n",
    "        i=0\n",
    "        for k in self.classes:\n",
    "\n",
    "            probs[:,i] = np.dot(X,self.prob_vec[k].T).ravel()\n",
    "            i+=1\n",
    "        return probs\n",
    "    \n",
    "    def predict(self,X):\n",
    "        return self.classes[np.argmax(self.predict_proba(X),axis =1)]"
   ]
  },
  {
   "cell_type": "markdown",
   "metadata": {},
   "source": [
    "### Mock problem"
   ]
  },
  {
   "cell_type": "code",
   "execution_count": 5,
   "metadata": {
    "collapsed": true
   },
   "outputs": [],
   "source": [
    "X=np.array([[1,2,3,0,0,0],[0,1,2,0,0,1],[0,0,0,2,3,1],[1,0,1,2,3,0]],dtype=np.float)\n",
    "y = [0,0,1,1]"
   ]
  },
  {
   "cell_type": "code",
   "execution_count": 7,
   "metadata": {
    "collapsed": true
   },
   "outputs": [],
   "source": [
    "clf = BernoulliNaiveBayes()\n",
    "clf.fit(X,y)"
   ]
  },
  {
   "cell_type": "code",
   "execution_count": 8,
   "metadata": {},
   "outputs": [
    {
     "data": {
      "text/plain": [
       "array([0, 1])"
      ]
     },
     "execution_count": 8,
     "metadata": {},
     "output_type": "execute_result"
    }
   ],
   "source": [
    "clf.classes"
   ]
  },
  {
   "cell_type": "code",
   "execution_count": 9,
   "metadata": {},
   "outputs": [
    {
     "data": {
      "text/plain": [
       "{0: array([ -6.93147180e-01,   1.00000008e-10,   1.00000008e-10,\n",
       "         -2.30258509e+01,  -2.30258509e+01,  -6.93147180e-01]),\n",
       " 1: array([ -6.93147180e-01,  -2.30258509e+01,  -6.93147180e-01,\n",
       "          1.00000008e-10,   1.00000008e-10,  -6.93147180e-01])}"
      ]
     },
     "execution_count": 9,
     "metadata": {},
     "output_type": "execute_result"
    }
   ],
   "source": [
    "clf.prob_vec"
   ]
  },
  {
   "cell_type": "code",
   "execution_count": 10,
   "metadata": {},
   "outputs": [
    {
     "data": {
      "text/plain": [
       "array([[  -0.69314718,  -48.82429058],\n",
       "       [  -0.69314718,  -25.10529247],\n",
       "       [-115.82240183,   -0.69314718],\n",
       "       [-115.82240183,   -1.38629436]])"
      ]
     },
     "execution_count": 10,
     "metadata": {},
     "output_type": "execute_result"
    }
   ],
   "source": [
    "clf.predict_proba(X)"
   ]
  },
  {
   "cell_type": "code",
   "execution_count": 11,
   "metadata": {},
   "outputs": [
    {
     "data": {
      "text/plain": [
       "array([0, 0, 1, 1])"
      ]
     },
     "execution_count": 11,
     "metadata": {},
     "output_type": "execute_result"
    }
   ],
   "source": [
    "clf.predict(X)"
   ]
  },
  {
   "cell_type": "markdown",
   "metadata": {},
   "source": [
    "### NY Times dataset"
   ]
  },
  {
   "cell_type": "code",
   "execution_count": 4,
   "metadata": {},
   "outputs": [
    {
     "data": {
      "text/html": [
       "<div>\n",
       "<style>\n",
       "    .dataframe thead tr:only-child th {\n",
       "        text-align: right;\n",
       "    }\n",
       "\n",
       "    .dataframe thead th {\n",
       "        text-align: left;\n",
       "    }\n",
       "\n",
       "    .dataframe tbody tr th {\n",
       "        vertical-align: top;\n",
       "    }\n",
       "</style>\n",
       "<table border=\"1\" class=\"dataframe\">\n",
       "  <thead>\n",
       "    <tr style=\"text-align: right;\">\n",
       "      <th></th>\n",
       "      <th>Article_ID</th>\n",
       "      <th>Date</th>\n",
       "      <th>Article_Sequence</th>\n",
       "      <th>Title</th>\n",
       "      <th>Summary</th>\n",
       "      <th>Topic_6digit</th>\n",
       "      <th>Topic_4digit</th>\n",
       "      <th>Topic_2digit</th>\n",
       "      <th>War on Terror</th>\n",
       "      <th>Katrina</th>\n",
       "      <th>Israel/Palestine</th>\n",
       "      <th>Immigration</th>\n",
       "      <th>Presidential Elections</th>\n",
       "      <th>Clinton Impeachment</th>\n",
       "      <th>Enron</th>\n",
       "      <th>Darfur</th>\n",
       "      <th>Race/Ethnicity</th>\n",
       "      <th>Schiavo</th>\n",
       "    </tr>\n",
       "  </thead>\n",
       "  <tbody>\n",
       "    <tr>\n",
       "      <th>0</th>\n",
       "      <td>1</td>\n",
       "      <td>1/1/1996</td>\n",
       "      <td>a</td>\n",
       "      <td>Nation's Smaller Jails Struggle To Cope With S...</td>\n",
       "      <td>Jails overwhelmed with hardened criminals</td>\n",
       "      <td>120500</td>\n",
       "      <td>1205</td>\n",
       "      <td>12</td>\n",
       "      <td>0</td>\n",
       "      <td>0</td>\n",
       "      <td>0</td>\n",
       "      <td>0</td>\n",
       "      <td>0</td>\n",
       "      <td>0</td>\n",
       "      <td>0</td>\n",
       "      <td>0</td>\n",
       "      <td>0</td>\n",
       "      <td>0</td>\n",
       "    </tr>\n",
       "    <tr>\n",
       "      <th>1</th>\n",
       "      <td>2</td>\n",
       "      <td>1/1/1996</td>\n",
       "      <td>b</td>\n",
       "      <td>Dancing (and Kissing) In the New Year</td>\n",
       "      <td>new years activities</td>\n",
       "      <td>280000</td>\n",
       "      <td>2800</td>\n",
       "      <td>28</td>\n",
       "      <td>0</td>\n",
       "      <td>0</td>\n",
       "      <td>0</td>\n",
       "      <td>0</td>\n",
       "      <td>0</td>\n",
       "      <td>0</td>\n",
       "      <td>0</td>\n",
       "      <td>0</td>\n",
       "      <td>0</td>\n",
       "      <td>0</td>\n",
       "    </tr>\n",
       "    <tr>\n",
       "      <th>2</th>\n",
       "      <td>3</td>\n",
       "      <td>1/1/1996</td>\n",
       "      <td>c</td>\n",
       "      <td>Forbes's Silver Bullet for the Nation's Malaise</td>\n",
       "      <td>Steve Forbes running for President</td>\n",
       "      <td>201201</td>\n",
       "      <td>2012</td>\n",
       "      <td>20</td>\n",
       "      <td>0</td>\n",
       "      <td>0</td>\n",
       "      <td>0</td>\n",
       "      <td>0</td>\n",
       "      <td>1</td>\n",
       "      <td>0</td>\n",
       "      <td>0</td>\n",
       "      <td>0</td>\n",
       "      <td>0</td>\n",
       "      <td>0</td>\n",
       "    </tr>\n",
       "    <tr>\n",
       "      <th>3</th>\n",
       "      <td>4</td>\n",
       "      <td>1/1/1996</td>\n",
       "      <td>d</td>\n",
       "      <td>Up at Last, Bridge to Bosnia Is Swaying Gatewa...</td>\n",
       "      <td>U.S. military constructs bridge to help their ...</td>\n",
       "      <td>160200</td>\n",
       "      <td>1602</td>\n",
       "      <td>16</td>\n",
       "      <td>0</td>\n",
       "      <td>0</td>\n",
       "      <td>0</td>\n",
       "      <td>0</td>\n",
       "      <td>0</td>\n",
       "      <td>0</td>\n",
       "      <td>0</td>\n",
       "      <td>0</td>\n",
       "      <td>0</td>\n",
       "      <td>0</td>\n",
       "    </tr>\n",
       "    <tr>\n",
       "      <th>4</th>\n",
       "      <td>5</td>\n",
       "      <td>1/1/1996</td>\n",
       "      <td>e</td>\n",
       "      <td>2 SIDES IN SENATE DISAGREE ON PLAN TO END FURL...</td>\n",
       "      <td>Democrats and Republicans can't agree on plan ...</td>\n",
       "      <td>201206</td>\n",
       "      <td>2012</td>\n",
       "      <td>20</td>\n",
       "      <td>0</td>\n",
       "      <td>0</td>\n",
       "      <td>0</td>\n",
       "      <td>0</td>\n",
       "      <td>0</td>\n",
       "      <td>0</td>\n",
       "      <td>0</td>\n",
       "      <td>0</td>\n",
       "      <td>0</td>\n",
       "      <td>0</td>\n",
       "    </tr>\n",
       "  </tbody>\n",
       "</table>\n",
       "</div>"
      ],
      "text/plain": [
       "   Article_ID      Date Article_Sequence  \\\n",
       "0           1  1/1/1996                a   \n",
       "1           2  1/1/1996                b   \n",
       "2           3  1/1/1996                c   \n",
       "3           4  1/1/1996                d   \n",
       "4           5  1/1/1996                e   \n",
       "\n",
       "                                               Title  \\\n",
       "0  Nation's Smaller Jails Struggle To Cope With S...   \n",
       "1             Dancing (and Kissing) In the New Year    \n",
       "2   Forbes's Silver Bullet for the Nation's Malaise    \n",
       "3  Up at Last, Bridge to Bosnia Is Swaying Gatewa...   \n",
       "4  2 SIDES IN SENATE DISAGREE ON PLAN TO END FURL...   \n",
       "\n",
       "                                             Summary  Topic_6digit  \\\n",
       "0          Jails overwhelmed with hardened criminals        120500   \n",
       "1                               new years activities        280000   \n",
       "2                 Steve Forbes running for President        201201   \n",
       "3  U.S. military constructs bridge to help their ...        160200   \n",
       "4  Democrats and Republicans can't agree on plan ...        201206   \n",
       "\n",
       "   Topic_4digit  Topic_2digit  War on Terror  Katrina  Israel/Palestine  \\\n",
       "0          1205            12              0        0                 0   \n",
       "1          2800            28              0        0                 0   \n",
       "2          2012            20              0        0                 0   \n",
       "3          1602            16              0        0                 0   \n",
       "4          2012            20              0        0                 0   \n",
       "\n",
       "   Immigration  Presidential Elections  Clinton Impeachment  Enron  Darfur  \\\n",
       "0            0                       0                    0      0       0   \n",
       "1            0                       0                    0      0       0   \n",
       "2            0                       1                    0      0       0   \n",
       "3            0                       0                    0      0       0   \n",
       "4            0                       0                    0      0       0   \n",
       "\n",
       "   Race/Ethnicity  Schiavo  \n",
       "0               0        0  \n",
       "1               0        0  \n",
       "2               0        0  \n",
       "3               0        0  \n",
       "4               0        0  "
      ]
     },
     "execution_count": 4,
     "metadata": {},
     "output_type": "execute_result"
    }
   ],
   "source": [
    "#load data\n",
    "import pandas as pd\n",
    "data=pd.read_csv('../../files/Boydstun_NYT_FrontPage_Dataset_1996-2006_0.csv')\n",
    "data.head()"
   ]
  },
  {
   "cell_type": "code",
   "execution_count": 5,
   "metadata": {},
   "outputs": [
    {
     "name": "stdout",
     "output_type": "stream",
     "text": [
      "Check the split sizes, train, test and total amount of data:\n",
      "(23584,) (7450,) (31034,)\n",
      "Display the labels:\n",
      "[ 1  2  3  4  5  6  7  8 10 12 13 14 15 16 17 18 19 20 21 24 26 27 28 29 30\n",
      " 31 99]\n"
     ]
    }
   ],
   "source": [
    "import numpy as np\n",
    "#Let us train the classifier with data up to 1/1/2004 and test its performnace in data from 2004-2006\n",
    "split = pd.to_datetime(pd.Series(data['Date']))<pd.datetime(2004, 1, 1)\n",
    "raw_data = data['Title']\n",
    "raw_train = raw_data[split]\n",
    "raw_test = raw_data[np.logical_not(split)]\n",
    "y = data['Topic_2digit']\n",
    "y_train = y[split]\n",
    "y_test = y[np.logical_not(split)]\n",
    "print ('Check the split sizes, train, test and total amount of data:')\n",
    "print (raw_train.shape, raw_test.shape, raw_data.shape)\n",
    "print ('Display the labels:')\n",
    "print (np.unique(y))"
   ]
  },
  {
   "cell_type": "code",
   "execution_count": 6,
   "metadata": {},
   "outputs": [
    {
     "name": "stdout",
     "output_type": "stream",
     "text": [
      "Example: Nation's Smaller Jails Struggle To Cope With Surge in Inmates \n",
      "\n",
      "Preprocessed: nation's smaller jails struggle to cope with surge in inmates \n",
      "\n",
      "Tokenized:['Nation', 'Smaller', 'Jails', 'Struggle', 'To', 'Cope', 'With', 'Surge', 'in', 'Inmates']\n",
      "\n",
      "Analyzed data string:['nation', 'smaller', 'jails', 'struggle', 'cope', 'surge', 'inmates']\n",
      "\n",
      "Number of tokens: 8950\n",
      "\n",
      "Extract of tokens:\n",
      "['boeing', 'boiling', 'boils', 'bold', 'bolster', 'bolsters', 'bolt', 'bolts', 'bomb', 'bombay', 'bombed', 'bomber', 'bombers', 'bombing', 'bombings', 'bombs', 'bonanza', 'bond', 'bondage', 'bonds', 'bone', 'bones', 'bonn', 'bono', 'bonus', 'bonuses', 'book', 'books', 'booksellers', 'bookstore', 'boom', 'boomers', 'booming', 'booms', 'boost', 'boot', 'bora', 'border', 'borders', 'born', 'borough', 'boroughs', 'borrow', 'borrowing', 'bosnia', 'bosnian', 'bosnians', 'boss', 'bosses', 'boston', 'botched', 'bottle', 'bought', 'bounce', 'bound', 'bounty', 'bout', 'bow', 'bowing', 'bowl', 'bows', 'box', 'boxes', 'boxing', 'boy', 'boycott', 'boys', 'brace', 'braced', 'braces', 'bracket', 'bradley', 'brain', 'brains', 'branches', 'brand', 'brash', 'brave', 'bravery', 'braves', 'brawl', 'brawley', 'brazil', 'brazilian', 'breach', 'breaches', 'bread', 'break', 'breakdown', 'breaking', 'breaks', 'breakthrough', 'breakup', 'breast', 'breather', 'breed', 'brewers', 'brewing', 'bribery', 'bricks']\n"
     ]
    }
   ],
   "source": [
    "# Let us tokenize the data\n",
    "from sklearn.feature_extraction.text import CountVectorizer\n",
    "\n",
    "# We use the count number of instances considering that a word has a minimum support of two documents\n",
    "vectorizer = CountVectorizer(min_df=2, \n",
    "# stop words such as 'and', 'the', 'of' are removed                             \n",
    " stop_words='english', \n",
    " strip_accents='unicode')\n",
    "\n",
    "#example of the tokenization\n",
    "test_string = raw_train[0]\n",
    "print (\"Example: \" + test_string +\"\\n\")\n",
    "print (\"Preprocessed: \" + vectorizer.build_preprocessor()(test_string)+\"\\n\")\n",
    "print (\"Tokenized:\" + str(vectorizer.build_tokenizer()(test_string))+\"\\n\")\n",
    "print (\"Analyzed data string:\" + str(vectorizer.build_analyzer()(test_string))+\"\\n\")\n",
    "\n",
    "\n",
    "#Process and convert data\n",
    "X_train = vectorizer.fit_transform(raw_train)\n",
    "X_test = vectorizer.transform(raw_test)\n",
    "\n",
    "print (\"Number of tokens: \" + str(len(vectorizer.get_feature_names())) +\"\\n\")\n",
    "print (\"Extract of tokens:\")\n",
    "print (vectorizer.get_feature_names()[1000:1100])"
   ]
  },
  {
   "cell_type": "code",
   "execution_count": 7,
   "metadata": {
    "collapsed": true
   },
   "outputs": [],
   "source": [
    "X_train = X_train.todense()\n",
    "X_train = X_train.astype(np.float)\n",
    "X_test = X_test.todense()\n",
    "X_test = X_test.astype(np.float)\n",
    "y_train = np.array(y_train.tolist())"
   ]
  },
  {
   "cell_type": "code",
   "execution_count": 28,
   "metadata": {},
   "outputs": [],
   "source": [
    "def plot_confusion_matrix(y_pred, y):\n",
    "    plt.imshow(metrics.confusion_matrix(y, y_pred), interpolation='nearest')\n",
    "    plt.colorbar()\n",
    "    plt.ylabel('true value')\n",
    "    plt.xlabel('predicted value')\n",
    "    fig = plt.gcf()\n",
    "    fig.set_size_inches(9,9) "
   ]
  },
  {
   "cell_type": "markdown",
   "metadata": {},
   "source": [
    "### Our Multinomial NaiveBayes"
   ]
  },
  {
   "cell_type": "code",
   "execution_count": 29,
   "metadata": {},
   "outputs": [
    {
     "name": "stdout",
     "output_type": "stream",
     "text": [
      "classification accuracy: 0.43932885906\n",
      "Classification Report:\n",
      "             precision    recall  f1-score   support\n",
      "\n",
      "          1       0.44      0.30      0.35       169\n",
      "          2       0.24      0.31      0.27       220\n",
      "          3       0.47      0.51      0.49       407\n",
      "          4       0.07      0.10      0.08        21\n",
      "          5       0.27      0.30      0.28       163\n",
      "          6       0.30      0.36      0.32       166\n",
      "          7       0.21      0.20      0.21        59\n",
      "          8       0.14      0.22      0.17        46\n",
      "         10       0.23      0.29      0.25        98\n",
      "         12       0.45      0.32      0.38       601\n",
      "         13       0.19      0.17      0.18        47\n",
      "         14       0.10      0.25      0.14        56\n",
      "         15       0.27      0.33      0.30       272\n",
      "         16       0.54      0.51      0.52      1401\n",
      "         17       0.25      0.37      0.30        95\n",
      "         18       0.08      0.06      0.07        33\n",
      "         19       0.63      0.47      0.54      1984\n",
      "         20       0.55      0.55      0.55       945\n",
      "         21       0.16      0.22      0.18        51\n",
      "         24       0.31      0.32      0.32       147\n",
      "         26       0.22      0.61      0.33        69\n",
      "         27       0.18      0.22      0.20        23\n",
      "         28       0.18      0.30      0.22       105\n",
      "         29       0.40      0.59      0.48       155\n",
      "         30       0.39      0.53      0.45        47\n",
      "         31       0.11      0.29      0.16        42\n",
      "         99       0.04      0.07      0.05        28\n",
      "\n",
      "avg / total       0.47      0.44      0.45      7450\n",
      "\n"
     ]
    },
    {
     "data": {
      "image/png": "[encoded data removed]",
      "text/plain": [
       "<matplotlib.figure.Figure at 0x10f4c8f60>"
      ]
     },
     "metadata": {},
     "output_type": "display_data"
    }
   ],
   "source": [
    "clf = MultinomialNaiveBayes()\n",
    "clf.fit(X_train,y_train)\n",
    "y_hat = clf.predict(X_test)\n",
    "\n",
    "print (\"classification accuracy:\", metrics.accuracy_score(y_hat, y_test))\n",
    "print (\"Classification Report:\")\n",
    "print (metrics.classification_report(y_hat,np.array(y_test)))"
   ]
  },
  {
   "cell_type": "markdown",
   "metadata": {},
   "source": [
    "### Result of sklearn Multinomial"
   ]
  },
  {
   "cell_type": "code",
   "execution_count": 15,
   "metadata": {},
   "outputs": [
    {
     "name": "stdout",
     "output_type": "stream",
     "text": [
      "classification accuracy: 0.53355704698\n",
      "Classification Report:\n",
      "             precision    recall  f1-score   support\n",
      "\n",
      "          1       0.70      0.44      0.54       181\n",
      "          2       0.26      0.58      0.36       124\n",
      "          3       0.70      0.59      0.64       521\n",
      "          4       0.07      0.67      0.12         3\n",
      "          5       0.24      0.61      0.34        72\n",
      "          6       0.64      0.66      0.65       190\n",
      "          7       0.20      0.50      0.28        22\n",
      "          8       0.28      0.77      0.41        26\n",
      "         10       0.23      0.55      0.32        51\n",
      "         12       0.56      0.39      0.46       629\n",
      "         13       0.16      0.78      0.27         9\n",
      "         14       0.11      0.84      0.20        19\n",
      "         15       0.29      0.39      0.34       249\n",
      "         16       0.62      0.57      0.60      1440\n",
      "         17       0.31      0.63      0.42        70\n",
      "         18       0.04      0.20      0.07         5\n",
      "         19       0.69      0.50      0.58      2064\n",
      "         20       0.74      0.57      0.64      1217\n",
      "         21       0.11      0.80      0.20        10\n",
      "         24       0.32      0.60      0.42        81\n",
      "         26       0.26      0.69      0.38        72\n",
      "         27       0.00      0.00      0.00         0\n",
      "         28       0.19      0.38      0.25        84\n",
      "         29       0.61      0.53      0.57       268\n",
      "         30       0.47      0.91      0.62        33\n",
      "         31       0.08      0.89      0.14         9\n",
      "         99       0.00      0.00      0.00         1\n",
      "\n",
      "avg / total       0.62      0.53      0.56      7450\n",
      "\n"
     ]
    },
    {
     "name": "stderr",
     "output_type": "stream",
     "text": [
      "/Library/Frameworks/Python.framework/Versions/3.6/lib/python3.6/site-packages/sklearn/metrics/classification.py:1137: UndefinedMetricWarning: Recall and F-score are ill-defined and being set to 0.0 in labels with no true samples.\n",
      "  'recall', 'true', average, warn_for)\n"
     ]
    }
   ],
   "source": [
    "from sklearn.naive_bayes import MultinomialNB\n",
    "nb = MultinomialNB()\n",
    "nb.fit(X_train,y_train)\n",
    "y_hat_sklearn = nb.predict(X_test)  \n",
    "    \n",
    "print (\"classification accuracy:\", metrics.accuracy_score(y_hat_sklearn, y_test))\n",
    "print (\"Classification Report:\")\n",
    "print (metrics.classification_report(y_hat_sklearn,np.array(y_test)))\n",
    "plot_confusion_matrix(y_hat, y_test)"
   ]
  },
  {
   "cell_type": "markdown",
   "metadata": {},
   "source": [
    "### Comparison\n",
    "\n",
    "Although our Multinomial naive bayes do not achieve the same result as the sklearn classifier, the confusion matrices has the same \"distribution\"."
   ]
  },
  {
   "cell_type": "code",
   "execution_count": 30,
   "metadata": {},
   "outputs": [
    {
     "data": {
      "image/png": "[encoded data removed]",
      "text/plain": [
       "<matplotlib.figure.Figure at 0x10d1e7c18>"
      ]
     },
     "metadata": {},
     "output_type": "display_data"
    }
   ],
   "source": [
    "plot_confusion_matrix(y_hat, y_test)"
   ]
  },
  {
   "cell_type": "code",
   "execution_count": 31,
   "metadata": {},
   "outputs": [
    {
     "data": {
      "image/png": "[encoded data removed]",
      "text/plain": [
       "<matplotlib.figure.Figure at 0x10bd00860>"
      ]
     },
     "metadata": {},
     "output_type": "display_data"
    }
   ],
   "source": [
    "plot_confusion_matrix(y_hat_sklearn, y_test)"
   ]
  },
  {
   "cell_type": "code",
   "execution_count": null,
   "metadata": {
    "collapsed": true
   },
   "outputs": [],
   "source": []
  }
 ],
 "metadata": {
  "kernelspec": {
   "display_name": "Python 3",
   "language": "python",
   "name": "python3"
  },
  "language_info": {
   "codemirror_mode": {
    "name": "ipython",
    "version": 3
   },
   "file_extension": ".py",
   "mimetype": "text/x-python",
   "name": "python",
   "nbconvert_exporter": "python",
   "pygments_lexer": "ipython3",
   "version": "3.6.2"
  }
 },
 "nbformat": 4,
 "nbformat_minor": 2
}
